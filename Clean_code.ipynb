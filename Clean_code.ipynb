{
 "cells": [
  {
   "cell_type": "code",
   "execution_count": 9,
   "metadata": {},
   "outputs": [],
   "source": [
    "###clean_code"
   ]
  },
  {
   "cell_type": "code",
   "execution_count": 1,
   "metadata": {},
   "outputs": [],
   "source": [
    "##Bad_code"
   ]
  },
  {
   "cell_type": "code",
   "execution_count": 2,
   "metadata": {},
   "outputs": [
    {
     "name": "stdout",
     "output_type": "stream",
     "text": [
      "87.4\n"
     ]
    }
   ],
   "source": [
    "s=[88,92,79,93,85]\n",
    "print(sum(s)/len(s))"
   ]
  },
  {
   "cell_type": "code",
   "execution_count": 3,
   "metadata": {},
   "outputs": [
    {
     "name": "stdout",
     "output_type": "stream",
     "text": [
      "93.44776840374746\n"
     ]
    }
   ],
   "source": [
    "s1=[x**0.5*10 for x in s]\n",
    "print(sum(s1)/len(s1))"
   ]
  },
  {
   "cell_type": "code",
   "execution_count": 4,
   "metadata": {},
   "outputs": [],
   "source": [
    "##good_code"
   ]
  },
  {
   "cell_type": "code",
   "execution_count": 5,
   "metadata": {},
   "outputs": [],
   "source": [
    "import math\n",
    "import numpy as np"
   ]
  },
  {
   "cell_type": "code",
   "execution_count": 6,
   "metadata": {},
   "outputs": [
    {
     "name": "stdout",
     "output_type": "stream",
     "text": [
      "87.4\n"
     ]
    }
   ],
   "source": [
    "test_scores=[88,92,79,93,85]\n",
    "print(np.mean(test_scores))"
   ]
  },
  {
   "cell_type": "code",
   "execution_count": 8,
   "metadata": {},
   "outputs": [
    {
     "name": "stdout",
     "output_type": "stream",
     "text": [
      "93.44776840374746\n"
     ]
    }
   ],
   "source": [
    "curved_test_scores=[math.sqrt(score)*10 for score in test_scores]\n",
    "print(np.mean(curved_test_scores))"
   ]
  },
  {
   "cell_type": "code",
   "execution_count": null,
   "metadata": {},
   "outputs": [],
   "source": []
  },
  {
   "cell_type": "code",
   "execution_count": 10,
   "metadata": {},
   "outputs": [],
   "source": [
    "##writing_modular_code"
   ]
  },
  {
   "cell_type": "code",
   "execution_count": 15,
   "metadata": {},
   "outputs": [],
   "source": [
    "##bad_code"
   ]
  },
  {
   "cell_type": "code",
   "execution_count": 11,
   "metadata": {},
   "outputs": [
    {
     "name": "stdout",
     "output_type": "stream",
     "text": [
      "87.4\n"
     ]
    }
   ],
   "source": [
    "s=[88,92,79,93,85]\n",
    "print(sum(s)/len(s))"
   ]
  },
  {
   "cell_type": "code",
   "execution_count": 12,
   "metadata": {},
   "outputs": [
    {
     "name": "stdout",
     "output_type": "stream",
     "text": [
      "92.4\n"
     ]
    }
   ],
   "source": [
    "s1=[]\n",
    "for x in s:\n",
    "    s1.append(x+5)\n",
    "    \n",
    "print(sum(s1)/len(s1))"
   ]
  },
  {
   "cell_type": "code",
   "execution_count": 13,
   "metadata": {},
   "outputs": [
    {
     "name": "stdout",
     "output_type": "stream",
     "text": [
      "97.4\n"
     ]
    }
   ],
   "source": [
    "s2=[]\n",
    "for x in s:\n",
    "    s2.append(x+10)\n",
    "    \n",
    "print(sum(s2)/len(s2))"
   ]
  },
  {
   "cell_type": "code",
   "execution_count": 14,
   "metadata": {},
   "outputs": [
    {
     "name": "stdout",
     "output_type": "stream",
     "text": [
      "93.44776840374746\n"
     ]
    }
   ],
   "source": [
    "s3=[]\n",
    "for x in s:\n",
    "    s3.append(x**0.5*10)\n",
    "\n",
    "print(sum(s3)/len(s3))"
   ]
  },
  {
   "cell_type": "code",
   "execution_count": null,
   "metadata": {},
   "outputs": [],
   "source": []
  },
  {
   "cell_type": "code",
   "execution_count": 16,
   "metadata": {},
   "outputs": [],
   "source": [
    "##littel_batter"
   ]
  },
  {
   "cell_type": "code",
   "execution_count": 17,
   "metadata": {},
   "outputs": [],
   "source": [
    "import math\n",
    "import numpy as np"
   ]
  },
  {
   "cell_type": "code",
   "execution_count": 18,
   "metadata": {},
   "outputs": [
    {
     "name": "stdout",
     "output_type": "stream",
     "text": [
      "87.4\n"
     ]
    }
   ],
   "source": [
    "test_scores=[88,92,79,93,85]\n",
    "print(np.mean(test_scores))"
   ]
  },
  {
   "cell_type": "code",
   "execution_count": 19,
   "metadata": {},
   "outputs": [
    {
     "name": "stdout",
     "output_type": "stream",
     "text": [
      "92.4\n"
     ]
    }
   ],
   "source": [
    "flat_5=[score+5 for score in test_scores]\n",
    "print(np.mean(flat_5))"
   ]
  },
  {
   "cell_type": "code",
   "execution_count": 20,
   "metadata": {},
   "outputs": [
    {
     "name": "stdout",
     "output_type": "stream",
     "text": [
      "97.4\n"
     ]
    }
   ],
   "source": [
    "flat_10=[score+10 for score in test_scores]\n",
    "print(np.mean(flat_10))"
   ]
  },
  {
   "cell_type": "code",
   "execution_count": 21,
   "metadata": {},
   "outputs": [
    {
     "name": "stdout",
     "output_type": "stream",
     "text": [
      "93.44776840374746\n"
     ]
    }
   ],
   "source": [
    "curved_sqrt=[math.sqrt(score)*10 for score in test_scores]\n",
    "print(np.mean(curved_sqrt))"
   ]
  },
  {
   "cell_type": "code",
   "execution_count": 22,
   "metadata": {},
   "outputs": [],
   "source": [
    "##better"
   ]
  },
  {
   "cell_type": "code",
   "execution_count": 23,
   "metadata": {},
   "outputs": [],
   "source": [
    "import math\n",
    "import numpy as np"
   ]
  },
  {
   "cell_type": "code",
   "execution_count": 24,
   "metadata": {},
   "outputs": [],
   "source": [
    "def flat_curve(arr,n):\n",
    "    return [i+n for i in arr]\n",
    "\n",
    "def square_root_curve(arr):\n",
    "    return [math.sqrt(i)*10 for i in arr]"
   ]
  },
  {
   "cell_type": "code",
   "execution_count": 25,
   "metadata": {},
   "outputs": [],
   "source": [
    "test_scores=[88,92,79,93,85]\n",
    "\n",
    "curved_5=flat_curve(test_scores,5)\n",
    "curved_10=flat_curve(test_scores,10)\n",
    "curved_sqrt=square_root_curve(test_scores)"
   ]
  },
  {
   "cell_type": "code",
   "execution_count": 26,
   "metadata": {},
   "outputs": [
    {
     "name": "stdout",
     "output_type": "stream",
     "text": [
      "87.4\n",
      "92.4\n",
      "97.4\n",
      "93.44776840374746\n"
     ]
    }
   ],
   "source": [
    "for score_list in test_scores,curved_5,curved_10,curved_sqrt:\n",
    "    print(np.mean(score_list))"
   ]
  },
  {
   "cell_type": "code",
   "execution_count": null,
   "metadata": {},
   "outputs": [],
   "source": []
  }
 ],
 "metadata": {
  "kernelspec": {
   "display_name": "Python 3",
   "language": "python",
   "name": "python3"
  },
  "language_info": {
   "codemirror_mode": {
    "name": "ipython",
    "version": 3
   },
   "file_extension": ".py",
   "mimetype": "text/x-python",
   "name": "python",
   "nbconvert_exporter": "python",
   "pygments_lexer": "ipython3",
   "version": "3.7.6"
  }
 },
 "nbformat": 4,
 "nbformat_minor": 4
}
