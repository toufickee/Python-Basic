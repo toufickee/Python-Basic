{
 "cells": [
  {
   "cell_type": "code",
   "execution_count": 56,
   "metadata": {
    "colab": {},
    "colab_type": "code",
    "id": "hfqtIA0EsKAn"
   },
   "outputs": [],
   "source": [
    "class Monster:\n",
    "  def __init__(self,color,heads):\n",
    "    self.color=color\n",
    "    self.heads=heads\n",
    "\n",
    "fog=Monster(\"Black\",5)\n",
    "mournsnake=Monster(\"Yellow\",4)\n",
    "tangleface=Monster(\"Red\",3)"
   ]
  },
  {
   "cell_type": "code",
   "execution_count": 57,
   "metadata": {
    "colab": {
     "base_uri": "https://localhost:8080/",
     "height": 68
    },
    "colab_type": "code",
    "id": "iKcKl5tF2fMJ",
    "outputId": "b015e328-9b44-414e-9a4d-ab25d5f7ca27"
   },
   "outputs": [
    {
     "name": "stdout",
     "output_type": "stream",
     "text": [
      "I have 5 heads and I'm Black\n",
      "I also have 4 heads and I'm Yellow\n",
      "I got 3 heads and I'm Red\n"
     ]
    }
   ],
   "source": [
    "print('I have ' + str(fog.heads) + ' heads and I\\'m ' + fog.color)\n",
    "print('I also have ' + str(mournsnake.heads) + ' heads and I\\'m ' + mournsnake.color)\n",
    "print('I got ' + str(tangleface.heads) + ' heads and I\\'m ' + tangleface.color)"
   ]
  },
  {
   "cell_type": "code",
   "execution_count": 58,
   "metadata": {
    "colab": {
     "base_uri": "https://localhost:8080/",
     "height": 51
    },
    "colab_type": "code",
    "id": "DLztz2Yy2kK3",
    "outputId": "9481cd8c-43a6-40be-dbbe-d3acd10891da"
   },
   "outputs": [
    {
     "name": "stdout",
     "output_type": "stream",
     "text": [
      "I am a4headed monster.\n",
      "Just attacked a hero\n"
     ]
    }
   ],
   "source": [
    "class Monster:\n",
    "  def __init__(self,color,heads):\n",
    "    self.color=color\n",
    "    self.heads=heads\n",
    "  def attack(self):\n",
    "    print(\"Just attacked a hero\")\n",
    "\n",
    "mournsnak=Monster(\"Yellow\",4)\n",
    "print('I am a'+str(mournsnake.heads)+'headed monster.')\n",
    "\n",
    "mournsnak.attack()"
   ]
  },
  {
   "cell_type": "code",
   "execution_count": 59,
   "metadata": {
    "colab": {
     "base_uri": "https://localhost:8080/",
     "height": 51
    },
    "colab_type": "code",
    "id": "P0DHVS1AHAa9",
    "outputId": "ae688194-0347-4c22-ce80-3e6d36b4a76a"
   },
   "outputs": [
    {
     "name": "stdout",
     "output_type": "stream",
     "text": [
      "I am a 4 headed negative character monster.\n",
      "Just attacked a hero\n"
     ]
    }
   ],
   "source": [
    "class Monster:\n",
    "  identity=\"negative character\"\n",
    "  def __init__(self,color,heads):\n",
    "      self.color=color\n",
    "      self.heads=heads\n",
    "  def attack(self):\n",
    "      print(\"Just attacked a hero\")\n",
    "\n",
    "mournsnak=Monster(\"Yellow\",4)\n",
    "print('I am a '+str(mournsnake.heads)+' headed '+mournsnak.identity+' monster.')\n",
    "\n",
    "mournsnak.attack()"
   ]
  },
  {
   "cell_type": "markdown",
   "metadata": {
    "colab_type": "text",
    "id": "COst49OEI-36"
   },
   "source": [
    "Inheritance"
   ]
  },
  {
   "cell_type": "code",
   "execution_count": 60,
   "metadata": {
    "colab": {},
    "colab_type": "code",
    "id": "HuftBKvrIR_i"
   },
   "outputs": [],
   "source": [
    "class Monster:\n",
    "  identity=\"negative character\"\n",
    "  def __init__(self,color,heads):\n",
    "    self.color=color\n",
    "    self.heads=heads\n",
    "  def attack(self):\n",
    "    print(\"I am attacking\")\n",
    "\n",
    "class Fogthing(Monster):\n",
    "  def make_sound(self):\n",
    "    print(\"Grrrrrrr\\n\")\n",
    "class Mournsnake(Monster):\n",
    "  def make_sound(self):\n",
    "    print(\"Hiisssss\\n\")"
   ]
  },
  {
   "cell_type": "code",
   "execution_count": 61,
   "metadata": {
    "colab": {
     "base_uri": "https://localhost:8080/",
     "height": 68
    },
    "colab_type": "code",
    "id": "AYpKL3x-Kk0M",
    "outputId": "1bd0bf6a-5c76-42fa-b220-b5b263925c57"
   },
   "outputs": [
    {
     "name": "stdout",
     "output_type": "stream",
     "text": [
      "I am attacking\n",
      "Grrrrrrr\n",
      "\n"
     ]
    }
   ],
   "source": [
    "fogthing=Fogthing(\"Yellow\",5)\n",
    "fogthing.attack()\n",
    "fogthing.make_sound()"
   ]
  },
  {
   "cell_type": "code",
   "execution_count": 62,
   "metadata": {
    "colab": {
     "base_uri": "https://localhost:8080/",
     "height": 51
    },
    "colab_type": "code",
    "id": "1NpyWKFjK24T",
    "outputId": "88c07588-140c-44bf-82ca-295db886f9cd"
   },
   "outputs": [
    {
     "name": "stdout",
     "output_type": "stream",
     "text": [
      "5\n",
      "i am killing\n"
     ]
    }
   ],
   "source": [
    "class Monster:\n",
    "  identity=\"Negative Char\"\n",
    "  def __init__(self,name,color,head):\n",
    "    self.name=name\n",
    "    self.color=color\n",
    "    self.head=head\n",
    "    \n",
    "  def attack(self):\n",
    "    print(\"I am attacking\")\n",
    "  \n",
    "class Fogthing(Monster):\n",
    "  def attack(self):\n",
    "    print(\"i am killing\")\n",
    "\n",
    "  def make_sound(self):\n",
    "    print(\"Grrrr\\n\")\n",
    "\n",
    "fogthing=Fogthing(\"Fogthing\",\"Yellow\",5)\n",
    "print(fogthing.head)\n",
    "fogthing.attack()"
   ]
  },
  {
   "cell_type": "code",
   "execution_count": 63,
   "metadata": {
    "colab": {
     "base_uri": "https://localhost:8080/",
     "height": 34
    },
    "colab_type": "code",
    "id": "cBTy7LupMb-M",
    "outputId": "2cc5ca29-b1a5-406a-fad5-3fc78179f5bd"
   },
   "outputs": [
    {
     "name": "stdout",
     "output_type": "stream",
     "text": [
      "I am from class A\n"
     ]
    }
   ],
   "source": [
    "class A:\n",
    "  def where(self):\n",
    "    print(\"I am from class A\")\n",
    "\n",
    "class B:\n",
    "  def where(self):\n",
    "    print(\"I am from class B\")\n",
    "\n",
    "class C(A,B):\n",
    "  pass\n",
    "\n",
    "where_from=C()\n",
    "where_from.where()"
   ]
  },
  {
   "cell_type": "code",
   "execution_count": 64,
   "metadata": {
    "colab": {
     "base_uri": "https://localhost:8080/",
     "height": 54
    },
    "colab_type": "code",
    "id": "LKCT7rLPOFBT",
    "outputId": "9f1e4101-4a67-45f9-e8a4-c47bb0f56130"
   },
   "outputs": [
    {
     "name": "stdout",
     "output_type": "stream",
     "text": [
      "[<class '__main__.C'>, <class '__main__.A'>, <class '__main__.B'>, <class 'object'>]\n"
     ]
    }
   ],
   "source": [
    "print(C.mro())"
   ]
  },
  {
   "cell_type": "markdown",
   "metadata": {
    "colab_type": "text",
    "id": "GiprCmb0T_5O"
   },
   "source": [
    "Super Method "
   ]
  },
  {
   "cell_type": "code",
   "execution_count": 65,
   "metadata": {
    "colab": {},
    "colab_type": "code",
    "id": "R-DaDOauOTtz"
   },
   "outputs": [],
   "source": [
    "class A:\n",
    "  def spam(self):\n",
    "    print(1)\n",
    "\n",
    "class B(A):\n",
    "  def spam(self):\n",
    "    print(2)\n",
    "    super().spam()"
   ]
  },
  {
   "cell_type": "code",
   "execution_count": 66,
   "metadata": {
    "colab": {
     "base_uri": "https://localhost:8080/",
     "height": 51
    },
    "colab_type": "code",
    "id": "O_NVzQBZUQnV",
    "outputId": "2c43d530-f127-4369-84b8-690b09fa2313"
   },
   "outputs": [
    {
     "name": "stdout",
     "output_type": "stream",
     "text": [
      "2\n",
      "1\n"
     ]
    }
   ],
   "source": [
    "B().spam()"
   ]
  },
  {
   "cell_type": "markdown",
   "metadata": {
    "colab_type": "text",
    "id": "VbOjhQyAWeKZ"
   },
   "source": [
    "Operator Overloadding"
   ]
  },
  {
   "cell_type": "code",
   "execution_count": 67,
   "metadata": {
    "colab": {
     "base_uri": "https://localhost:8080/",
     "height": 51
    },
    "colab_type": "code",
    "id": "I-UH8LJFUTXr",
    "outputId": "e1edacf7-9d00-499a-a232-72d6b7583b39"
   },
   "outputs": [
    {
     "name": "stdout",
     "output_type": "stream",
     "text": [
      "10\n"
     ]
    },
    {
     "data": {
      "text/plain": [
       "5"
      ]
     },
     "execution_count": 67,
     "metadata": {
      "tags": []
     },
     "output_type": "execute_result"
    }
   ],
   "source": [
    "class MyNum():\n",
    "  def __init__(self,value):\n",
    "    self.value=value\n",
    "\n",
    "  def __add__(self,other):\n",
    "    return (self.value*2)+(other.value*2)\n",
    "\n",
    "a=MyNum(2)\n",
    "b=MyNum(3)\n",
    "\n",
    "c=a+b\n",
    "print(c)\n",
    "2+3"
   ]
  },
  {
   "cell_type": "code",
   "execution_count": 68,
   "metadata": {
    "colab": {},
    "colab_type": "code",
    "id": "H_zORxZ2XFDR"
   },
   "outputs": [],
   "source": [
    "class MyInt():\n",
    "  def __init__(self,value):\n",
    "    self.__value=value\n",
    "\n",
    "  def __int__(self):\n",
    "    return self.__value\n",
    "\n",
    "  def __add__(self,other):\n",
    "    return self.__value+int(other)*int(other)\n",
    "\n",
    "a=MyInt(2)\n",
    "b=MyInt(3)"
   ]
  },
  {
   "cell_type": "code",
   "execution_count": 69,
   "metadata": {
    "colab": {
     "base_uri": "https://localhost:8080/",
     "height": 34
    },
    "colab_type": "code",
    "id": "Uaj2yU-RZJQ4",
    "outputId": "14e1caaa-aae4-4310-a01b-21cae07318a8"
   },
   "outputs": [
    {
     "name": "stdout",
     "output_type": "stream",
     "text": [
      "11\n"
     ]
    }
   ],
   "source": [
    "c=a+b\n",
    "print(c)"
   ]
  },
  {
   "cell_type": "code",
   "execution_count": 70,
   "metadata": {
    "colab": {},
    "colab_type": "code",
    "id": "wp86vVMDZP6h"
   },
   "outputs": [],
   "source": [
    "class MyInt():\n",
    "  def __init__(self,value):\n",
    "    self.__value=value\n",
    "\n",
    "  def __int__(self):\n",
    "    return self.__value\n",
    "\n",
    "  def __iadd__(self,other):\n",
    "    return self.__value+int(other)*int(other)"
   ]
  },
  {
   "cell_type": "code",
   "execution_count": 71,
   "metadata": {
    "colab": {
     "base_uri": "https://localhost:8080/",
     "height": 34
    },
    "colab_type": "code",
    "id": "GJzoE-7baT0G",
    "outputId": "0cb1e0c5-67d7-4cf0-aa19-34683a58a93d"
   },
   "outputs": [
    {
     "name": "stdout",
     "output_type": "stream",
     "text": [
      "18\n"
     ]
    }
   ],
   "source": [
    "a=MyInt(2)\n",
    "a+=MyInt(4)\n",
    "print(a)"
   ]
  },
  {
   "cell_type": "code",
   "execution_count": 72,
   "metadata": {
    "colab": {
     "base_uri": "https://localhost:8080/",
     "height": 34
    },
    "colab_type": "code",
    "id": "4LgP-OK-aaBA",
    "outputId": "bd6113c7-15a0-49fc-b39d-eeec0fc1bfd8"
   },
   "outputs": [
    {
     "name": "stdout",
     "output_type": "stream",
     "text": [
      "7\n"
     ]
    }
   ],
   "source": [
    "class Add:\n",
    "\n",
    "  def __init__(self,a,b):\n",
    "    self.a=a\n",
    "    self.b=b\n",
    "\n",
    "  def add(self):\n",
    "    return self.a+self.b\n",
    "\n",
    "obj=Add(3,4)\n",
    "print(obj.add())"
   ]
  },
  {
   "cell_type": "code",
   "execution_count": 73,
   "metadata": {
    "colab": {
     "base_uri": "https://localhost:8080/",
     "height": 197
    },
    "colab_type": "code",
    "id": "6B0opuwYeLJR",
    "outputId": "19482902-2383-4eb5-cade-05d1ecbe51ed"
   },
   "outputs": [
    {
     "ename": "NameError",
     "evalue": "ignored",
     "output_type": "error",
     "traceback": [
      "\u001b[0;31m---------------------------------------------------------------------------\u001b[0m",
      "\u001b[0;31mNameError\u001b[0m                                 Traceback (most recent call last)",
      "\u001b[0;32m<ipython-input-73-bf8c31416a50>\u001b[0m in \u001b[0;36m<module>\u001b[0;34m()\u001b[0m\n\u001b[1;32m      3\u001b[0m \u001b[0mc\u001b[0m\u001b[0;34m=\u001b[0m\u001b[0;34m[\u001b[0m\u001b[0ma\u001b[0m\u001b[0;34m]\u001b[0m\u001b[0;34m\u001b[0m\u001b[0;34m\u001b[0m\u001b[0m\n\u001b[1;32m      4\u001b[0m \u001b[0;32mdel\u001b[0m \u001b[0ma\u001b[0m\u001b[0;34m\u001b[0m\u001b[0;34m\u001b[0m\u001b[0m\n\u001b[0;32m----> 5\u001b[0;31m \u001b[0mv\u001b[0m\u001b[0;34m\u001b[0m\u001b[0;34m\u001b[0m\u001b[0m\n\u001b[0m",
      "\u001b[0;31mNameError\u001b[0m: name 'v' is not defined"
     ]
    }
   ],
   "source": [
    "a=42\n",
    "b=a\n",
    "c=[a]\n",
    "del a\n",
    "v"
   ]
  },
  {
   "cell_type": "code",
   "execution_count": null,
   "metadata": {
    "colab": {},
    "colab_type": "code",
    "id": "uclbGuo_ilPH"
   },
   "outputs": [],
   "source": [
    "del a"
   ]
  },
  {
   "cell_type": "code",
   "execution_count": null,
   "metadata": {
    "colab": {},
    "colab_type": "code",
    "id": "zRdVAOi4imyG"
   },
   "outputs": [],
   "source": [
    "b"
   ]
  },
  {
   "cell_type": "code",
   "execution_count": null,
   "metadata": {
    "colab": {},
    "colab_type": "code",
    "id": "TQyqEtHiind3"
   },
   "outputs": [],
   "source": [
    "c"
   ]
  },
  {
   "cell_type": "markdown",
   "metadata": {
    "colab_type": "text",
    "id": "MXtlEjcD3-wq"
   },
   "source": [
    "Weekly Private\n"
   ]
  },
  {
   "cell_type": "code",
   "execution_count": 74,
   "metadata": {
    "colab": {
     "base_uri": "https://localhost:8080/",
     "height": 85
    },
    "colab_type": "code",
    "id": "UBYPOwakirJD",
    "outputId": "16791235-7d48-4244-a5ed-c21c77d41aff"
   },
   "outputs": [
    {
     "name": "stdout",
     "output_type": "stream",
     "text": [
      "[1, 2, 3]\n",
      "[0, 1, 2, 3]\n",
      "[0, 1, 2]\n",
      "[0, 1, 2]\n"
     ]
    }
   ],
   "source": [
    "class Queue:\n",
    "  def __init__(self,contents):\n",
    "    self._hiddenlist=list(contents)\n",
    "\n",
    "  def push(self,value):\n",
    "    self._hiddenlist.insert(0,value)\n",
    "\n",
    "  def pop(self):\n",
    "    return self._hiddenlist.pop(-1)\n",
    "  \n",
    "  def _show_list(self):\n",
    "    return self._hiddenlist\n",
    "\n",
    "queue=Queue([1,2,3])\n",
    "print(queue._hiddenlist)\n",
    "\n",
    "queue.push(0)\n",
    "print(queue._hiddenlist)\n",
    "  \n",
    "queue.pop()\n",
    "print(queue._hiddenlist)\n",
    "\n",
    "print(queue._show_list())"
   ]
  },
  {
   "cell_type": "markdown",
   "metadata": {
    "colab_type": "text",
    "id": "XMb0Up7MHckn"
   },
   "source": [
    "Strongly private"
   ]
  },
  {
   "cell_type": "code",
   "execution_count": 75,
   "metadata": {
    "colab": {
     "base_uri": "https://localhost:8080/",
     "height": 214
    },
    "colab_type": "code",
    "id": "c4IiISX47emQ",
    "outputId": "ce29af0c-6df7-486e-dcb2-72c578dbdda1"
   },
   "outputs": [
    {
     "name": "stdout",
     "output_type": "stream",
     "text": [
      "7\n"
     ]
    },
    {
     "ename": "AttributeError",
     "evalue": "ignored",
     "output_type": "error",
     "traceback": [
      "\u001b[0;31m---------------------------------------------------------------------------\u001b[0m",
      "\u001b[0;31mAttributeError\u001b[0m                            Traceback (most recent call last)",
      "\u001b[0;32m<ipython-input-75-8c28fc23da9f>\u001b[0m in \u001b[0;36m<module>\u001b[0;34m()\u001b[0m\n\u001b[1;32m      7\u001b[0m \u001b[0ms\u001b[0m\u001b[0;34m=\u001b[0m\u001b[0mSpam\u001b[0m\u001b[0;34m(\u001b[0m\u001b[0;34m)\u001b[0m\u001b[0;34m\u001b[0m\u001b[0;34m\u001b[0m\u001b[0m\n\u001b[1;32m      8\u001b[0m \u001b[0ms\u001b[0m\u001b[0;34m.\u001b[0m\u001b[0mprint_egg\u001b[0m\u001b[0;34m(\u001b[0m\u001b[0;34m)\u001b[0m\u001b[0;34m\u001b[0m\u001b[0;34m\u001b[0m\u001b[0m\n\u001b[0;32m----> 9\u001b[0;31m \u001b[0mprint\u001b[0m\u001b[0;34m(\u001b[0m\u001b[0ms\u001b[0m\u001b[0;34m.\u001b[0m\u001b[0m__egg\u001b[0m\u001b[0;34m)\u001b[0m\u001b[0;34m\u001b[0m\u001b[0;34m\u001b[0m\u001b[0m\n\u001b[0m",
      "\u001b[0;31mAttributeError\u001b[0m: 'Spam' object has no attribute '__egg'"
     ]
    }
   ],
   "source": [
    "class Spam:\n",
    "  __egg=7\n",
    "\n",
    "  def print_egg(self):\n",
    "    print(self.__egg)\n",
    "\n",
    "s=Spam()\n",
    "s.print_egg()\n",
    "print(s.__egg)"
   ]
  },
  {
   "cell_type": "code",
   "execution_count": 76,
   "metadata": {
    "colab": {
     "base_uri": "https://localhost:8080/",
     "height": 34
    },
    "colab_type": "code",
    "id": "Qob-rZK8HzOF",
    "outputId": "b5017454-eb9f-4561-85e7-2585cca3bdf3"
   },
   "outputs": [
    {
     "name": "stdout",
     "output_type": "stream",
     "text": [
      "7\n"
     ]
    }
   ],
   "source": [
    "print(s._Spam__egg)"
   ]
  },
  {
   "cell_type": "markdown",
   "metadata": {
    "colab_type": "text",
    "id": "Io8bwLrHKBDv"
   },
   "source": [
    "class Method"
   ]
  },
  {
   "cell_type": "code",
   "execution_count": 80,
   "metadata": {
    "colab": {},
    "colab_type": "code",
    "id": "klADhaaEH_Ls"
   },
   "outputs": [],
   "source": [
    "class Rectangle:\n",
    "  def __init__(self,width,height):\n",
    "    self.width=width\n",
    "    self.height=height\n",
    "\n",
    "  def calculate_area(self):\n",
    "    return self.width*self.height\n",
    "\n",
    "  @classmethod\n",
    "  def new_square(cls,side_length):\n",
    "    return cls(side_length,side_length)"
   ]
  },
  {
   "cell_type": "code",
   "execution_count": 82,
   "metadata": {
    "colab": {
     "base_uri": "https://localhost:8080/",
     "height": 34
    },
    "colab_type": "code",
    "id": "cYEnLWThJ9_A",
    "outputId": "21394f46-09e3-4e66-8f02-1028df243d97"
   },
   "outputs": [
    {
     "name": "stdout",
     "output_type": "stream",
     "text": [
      "25\n"
     ]
    }
   ],
   "source": [
    "square=Rectangle.new_square(5)\n",
    "print(square.calculate_area())"
   ]
  },
  {
   "cell_type": "markdown",
   "metadata": {
    "colab_type": "text",
    "id": "GRzb1eLaOFj7"
   },
   "source": [
    "Static method"
   ]
  },
  {
   "cell_type": "code",
   "execution_count": 83,
   "metadata": {
    "colab": {},
    "colab_type": "code",
    "id": "m4kkD1tOL-t6"
   },
   "outputs": [],
   "source": [
    "class Pizza:\n",
    "  def __init__(self,toppings):\n",
    "    self.toppings=toppings\n",
    "\n",
    "  @staticmethod\n",
    "  def validate_topping(topping):\n",
    "    if topping=='pineapple':\n",
    "      raise ValueError(\"No Pineapples!\")\n",
    "    else:\n",
    "      return True\n",
    "\n",
    "ingredients=[\"chesse\",\"onions\",\"spam\"]\n",
    "\n",
    "if all(Pizza.validate_topping(i) for i in ingredients):\n",
    "  pizza=Pizza(ingredients)"
   ]
  },
  {
   "cell_type": "code",
   "execution_count": null,
   "metadata": {
    "colab": {},
    "colab_type": "code",
    "id": "EaqExgpsQUQa"
   },
   "outputs": [],
   "source": []
  }
 ],
 "metadata": {
  "colab": {
   "collapsed_sections": [],
   "name": "opp.ipynb",
   "provenance": []
  },
  "kernelspec": {
   "display_name": "Python 3",
   "language": "python",
   "name": "python3"
  },
  "language_info": {
   "codemirror_mode": {
    "name": "ipython",
    "version": 3
   },
   "file_extension": ".py",
   "mimetype": "text/x-python",
   "name": "python",
   "nbconvert_exporter": "python",
   "pygments_lexer": "ipython3",
   "version": "3.7.6"
  }
 },
 "nbformat": 4,
 "nbformat_minor": 1
}
